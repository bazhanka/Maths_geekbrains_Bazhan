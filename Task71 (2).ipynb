{
  "nbformat": 4,
  "nbformat_minor": 0,
  "metadata": {
    "kernelspec": {
      "display_name": "Python 3",
      "language": "python",
      "name": "python3"
    },
    "language_info": {
      "codemirror_mode": {
        "name": "ipython",
        "version": 3
      },
      "file_extension": ".py",
      "mimetype": "text/x-python",
      "name": "python",
      "nbconvert_exporter": "python",
      "pygments_lexer": "ipython3",
      "version": "3.6.0"
    },
    "colab": {
      "name": "Copy of Копия 6-4.ipynb",
      "provenance": []
    }
  },
  "cells": [
    {
      "cell_type": "markdown",
      "metadata": {
        "collapsed": true,
        "id": "qOK_LuiraQk1"
      },
      "source": [
        "## Матричные разложения "
      ]
    },
    {
      "cell_type": "code",
      "metadata": {
        "id": "2POcamv_aQk3"
      },
      "source": [
        "import numpy as np \n",
        "import matplotlib.pyplot as plt\n",
        "import scipy \n",
        "import scipy.linalg  "
      ],
      "execution_count": null,
      "outputs": []
    },
    {
      "cell_type": "code",
      "metadata": {
        "id": "pkYd4u0yaQlA",
        "colab": {
          "base_uri": "https://localhost:8080/"
        },
        "outputId": "3c20170f-f176-4213-ae70-e368194f09c9"
      },
      "source": [
        "A = np.array([ [1, 2, 3], [2, 16, 21], [4, 28, 73]])\n",
        "P, L, U = scipy.linalg.lu(A)\n",
        "\n",
        "print(P)\n",
        "print(L)\n",
        "print(U)\n",
        "\n",
        "print(np.dot(P.transpose(), A) - np.dot(L, U))"
      ],
      "execution_count": null,
      "outputs": [
        {
          "output_type": "stream",
          "text": [
            "[[0. 1. 0.]\n",
            " [0. 0. 1.]\n",
            " [1. 0. 0.]]\n",
            "[[ 1.    0.    0.  ]\n",
            " [ 0.25  1.    0.  ]\n",
            " [ 0.5  -0.4   1.  ]]\n",
            "[[  4.    28.    73.  ]\n",
            " [  0.    -5.   -15.25]\n",
            " [  0.     0.   -21.6 ]]\n",
            "[[0. 0. 0.]\n",
            " [0. 0. 0.]\n",
            " [0. 0. 0.]]\n"
          ],
          "name": "stdout"
        }
      ]
    },
    {
      "cell_type": "code",
      "metadata": {
        "id": "yXc0WnlXaQlH",
        "colab": {
          "base_uri": "https://localhost:8080/"
        },
        "outputId": "007c3973-a3d2-4454-a356-eccfcef267b0"
      },
      "source": [
        "L = np.array([ [1, 0, 0], [0.25, 1, 0], [0.5, -0.4, 1]])\n",
        "U = np.array([ [4, 28, 73], [0, -5, -15.25], [0, 0, -21.6]])\n",
        "A = np.dot(L, U)\n",
        "P, L, U = scipy.linalg.lu(A)\n",
        "\n",
        "print(\"det A = \", np.linalg.det(A))\n",
        "print(\"A = \", A)\n",
        "print(\"P = \", P)\n",
        "print(\"L = \", L)\n",
        "print(\"U = \", U)\n",
        "\n",
        "B = np.array([4, 1, 7])\n",
        "np.linalg.solve(A, B)"
      ],
      "execution_count": null,
      "outputs": [
        {
          "output_type": "stream",
          "text": [
            "det A =  432.00000000000017\n",
            "A =  [[ 4. 28. 73.]\n",
            " [ 1.  2.  3.]\n",
            " [ 2. 16. 21.]]\n",
            "P =  [[1. 0. 0.]\n",
            " [0. 1. 0.]\n",
            " [0. 0. 1.]]\n",
            "L =  [[ 1.    0.    0.  ]\n",
            " [ 0.25  1.    0.  ]\n",
            " [ 0.5  -0.4   1.  ]]\n",
            "U =  [[  4.    28.    73.  ]\n",
            " [  0.    -5.   -15.25]\n",
            " [  0.     0.   -21.6 ]]\n"
          ],
          "name": "stdout"
        },
        {
          "output_type": "execute_result",
          "data": {
            "text/plain": [
              "array([ 0.28240741,  0.70601852, -0.23148148])"
            ]
          },
          "metadata": {
            "tags": []
          },
          "execution_count": 4
        }
      ]
    },
    {
      "cell_type": "code",
      "metadata": {
        "id": "bm_ZyXjSaQlb"
      },
      "source": [
        ""
      ],
      "execution_count": null,
      "outputs": []
    }
  ]
}