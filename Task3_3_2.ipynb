{
  "nbformat": 4,
  "nbformat_minor": 0,
  "metadata": {
    "kernelspec": {
      "display_name": "Python 3",
      "language": "python",
      "name": "python3"
    },
    "language_info": {
      "codemirror_mode": {
        "name": "ipython",
        "version": 3
      },
      "file_extension": ".py",
      "mimetype": "text/x-python",
      "name": "python",
      "nbconvert_exporter": "python",
      "pygments_lexer": "ipython3",
      "version": "3.6.0"
    },
    "colab": {
      "name": "Копия 2.3.ipynb",
      "provenance": [],
      "collapsed_sections": []
    }
  },
  "cells": [
    {
      "cell_type": "code",
      "metadata": {
        "id": "gXjQpSoxOg35",
        "colab": {
          "base_uri": "https://localhost:8080/",
          "height": 283
        },
        "outputId": "9fbfdd0d-aef8-4bba-aeae-30476a7122bb"
      },
      "source": [
        "%matplotlib inline\n",
        "import matplotlib.pyplot as plt\n",
        "import math\n",
        "x = []\n",
        "y1 = []\n",
        "y2 = []\n",
        "a = 2\n",
        "b = 3\n",
        "for i in range(1000*2*a+1):\n",
        "    x_ = -a + i/1000\n",
        "    x.append(x_)\n",
        "    y1.append(math.sqrt((1 - x_**2/a**2)*b))\n",
        "    y2.append(-math.sqrt((1 - x_**2/a**2)*b))    \n",
        "plt.plot(x,y1)\n",
        "plt.plot(x,y2)\n",
        "plt.xlabel(\"x\")\n",
        "plt.ylabel(\"y\")\n",
        "plt.ylim(-3,3)\n",
        "plt.xlim(-4.3,4.3)\n",
        "plt.grid(True)"
      ],
      "execution_count": 10,
      "outputs": [
        {
          "output_type": "display_data",
          "data": {
            "image/png": "[encoded data removed]",
            "text/plain": [
              "<Figure size 432x288 with 1 Axes>"
            ]
          },
          "metadata": {
            "tags": [],
            "needs_background": "light"
          }
        }
      ]
    },
    {
      "cell_type": "code",
      "metadata": {
        "id": "ytL4YkuhOg4B"
      },
      "source": [
        "\n"
      ],
      "execution_count": null,
      "outputs": []
    },
    {
      "cell_type": "code",
      "metadata": {
        "id": "V3A4QzLATUnI"
      },
      "source": [
        ""
      ],
      "execution_count": null,
      "outputs": []
    }
  ]
}