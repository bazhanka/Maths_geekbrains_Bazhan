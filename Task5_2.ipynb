{
  "nbformat": 4,
  "nbformat_minor": 0,
  "metadata": {
    "colab": {
      "name": "Копия 4.2.ipynb",
      "provenance": [],
      "collapsed_sections": []
    },
    "kernelspec": {
      "display_name": "Python 3",
      "language": "python",
      "name": "python3"
    },
    "language_info": {
      "codemirror_mode": {
        "name": "ipython",
        "version": 3
      },
      "file_extension": ".py",
      "mimetype": "text/x-python",
      "name": "python",
      "nbconvert_exporter": "python",
      "pygments_lexer": "ipython3",
      "version": "3.6.0"
    }
  },
  "cells": [
    {
      "cell_type": "code",
      "metadata": {
        "id": "AD4Q6aR2TDIz"
      },
      "source": [
        "%matplotlib inline\n",
        "import numpy as np\n",
        "import matplotlib.pyplot as plt\n",
        "import matplotlib.mlab as mlab"
      ],
      "execution_count": 3,
      "outputs": []
    },
    {
      "cell_type": "code",
      "metadata": {
        "colab": {
          "base_uri": "https://localhost:8080/"
        },
        "id": "xwlrBldyTDJF",
        "outputId": "59eec5b7-56a3-4870-80cb-902cf67ebdd9"
      },
      "source": [
        "k,m,l = 0, 0, 0\n",
        "n = 100\n",
        "for i in range(0, n):\n",
        "    x = np.random.uniform(0, 10)\n",
        "    l=l+1\n",
        "    if x<5:\n",
        "        k = k + 1 \n",
        "    else:\n",
        "        m = m + 1\n",
        "if k+m==l:\n",
        "  print(True)\n",
        "else:\n",
        "  print(False)"
      ],
      "execution_count": 6,
      "outputs": [
        {
          "output_type": "stream",
          "text": [
            "True\n"
          ],
          "name": "stdout"
        }
      ]
    },
    {
      "cell_type": "code",
      "metadata": {
        "colab": {
          "base_uri": "https://localhost:8080/",
          "height": 312
        },
        "id": "WAD4tW03TDJK",
        "outputId": "e49a0f7c-e8fc-4c97-d58f-c393bcf2782e"
      },
      "source": [
        "allsums=[]\n",
        "for i in range(11):\n",
        "  x=np.random.rand(10)\n",
        "  allsums.append(sum(x))\n",
        "  i+=1\n",
        "num_bins = 10\n",
        "n, bins, patches = plt.hist(allsums, num_bins)\n",
        "plt.xlabel('summa')\n",
        "plt.ylabel('Probability')\n",
        "plt.title('Histogram')\n"
      ],
      "execution_count": 25,
      "outputs": [
        {
          "output_type": "execute_result",
          "data": {
            "text/plain": [
              "Text(0.5, 1.0, 'Histogram')"
            ]
          },
          "metadata": {
            "tags": []
          },
          "execution_count": 25
        },
        {
          "output_type": "display_data",
          "data": {
            "image/png": "[encoded data removed]",
            "text/plain": [
              "<Figure size 432x288 with 1 Axes>"
            ]
          },
          "metadata": {
            "tags": [],
            "needs_background": "light"
          }
        }
      ]
    }
  ]
}