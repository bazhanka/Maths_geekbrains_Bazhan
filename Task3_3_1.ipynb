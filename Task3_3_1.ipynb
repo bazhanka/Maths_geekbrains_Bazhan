{
  "nbformat": 4,
  "nbformat_minor": 0,
  "metadata": {
    "kernelspec": {
      "display_name": "Python 3",
      "language": "python",
      "name": "python3"
    },
    "language_info": {
      "codemirror_mode": {
        "name": "ipython",
        "version": 3
      },
      "file_extension": ".py",
      "mimetype": "text/x-python",
      "name": "python",
      "nbconvert_exporter": "python",
      "pygments_lexer": "ipython3",
      "version": "3.6.0"
    },
    "colab": {
      "name": "Копия 2.3.ipynb",
      "provenance": [],
      "collapsed_sections": []
    }
  },
  "cells": [
    {
      "cell_type": "code",
      "metadata": {
        "id": "gXjQpSoxOg35",
        "colab": {
          "base_uri": "https://localhost:8080/",
          "height": 283
        },
        "outputId": "a273b5c5-5de9-492e-d01f-63d84a979eb4"
      },
      "source": [
        "%matplotlib inline\n",
        "import matplotlib.pyplot as plt\n",
        "import math\n",
        "x1 = []\n",
        "x2 = []\n",
        "y1 = []\n",
        "y2 = []\n",
        "y3 = []\n",
        "y4 = []\n",
        "a = 2\n",
        "b = 2\n",
        "for i in range(1000*2*a):\n",
        "    x1_ = a + i/1000\n",
        "    x1.append(x1_)\n",
        "    y1.append(math.sqrt((x1_**2/a**2 - 1)*b))\n",
        "    y2.append(-math.sqrt((x1_**2/a**2 - 1)*b))\n",
        "for i in range(1000*2*a): \n",
        "    x2_ = a + i/1000\n",
        "    x2.append(-x2_)\n",
        "    y3.append(math.sqrt((x2_**2/a**2 - 1)*b))\n",
        "    y4.append(-math.sqrt((x2_**2/a**2 - 1)*b))\n",
        "plt.plot(x1,y1)\n",
        "plt.plot(x1,y2)\n",
        "plt.plot(x2,y3)\n",
        "plt.plot(x2,y4)\n",
        "plt.xlabel(\"x\")\n",
        "plt.ylabel(\"y\")\n",
        "plt.ylim(-3,3)\n",
        "plt.xlim(-4.3,4.3)\n",
        "plt.grid(True)"
      ],
      "execution_count": 20,
      "outputs": [
        {
          "output_type": "display_data",
          "data": {
            "image/png": "[encoded data removed]",
            "text/plain": [
              "<Figure size 432x288 with 1 Axes>"
            ]
          },
          "metadata": {
            "tags": [],
            "needs_background": "light"
          }
        }
      ]
    },
    {
      "cell_type": "code",
      "metadata": {
        "id": "ytL4YkuhOg4B"
      },
      "source": [
        "\n"
      ],
      "execution_count": null,
      "outputs": []
    },
    {
      "cell_type": "code",
      "metadata": {
        "id": "V3A4QzLATUnI"
      },
      "source": [
        ""
      ],
      "execution_count": null,
      "outputs": []
    }
  ]
}