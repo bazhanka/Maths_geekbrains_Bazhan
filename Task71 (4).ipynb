{
  "nbformat": 4,
  "nbformat_minor": 0,
  "metadata": {
    "kernelspec": {
      "display_name": "Python 3",
      "language": "python",
      "name": "python3"
    },
    "language_info": {
      "codemirror_mode": {
        "name": "ipython",
        "version": 3
      },
      "file_extension": ".py",
      "mimetype": "text/x-python",
      "name": "python",
      "nbconvert_exporter": "python",
      "pygments_lexer": "ipython3",
      "version": "3.6.0"
    },
    "colab": {
      "name": "Copy of Копия 6-6.ipynb",
      "provenance": []
    }
  },
  "cells": [
    {
      "cell_type": "markdown",
      "metadata": {
        "collapsed": true,
        "id": "U6kphHFKaYZp"
      },
      "source": [
        "### Матричные разложения "
      ]
    },
    {
      "cell_type": "code",
      "metadata": {
        "id": "TfjXGk9raYZt"
      },
      "source": [
        "import numpy as np\n",
        "import matplotlib.pyplot as plt"
      ],
      "execution_count": null,
      "outputs": []
    },
    {
      "cell_type": "code",
      "metadata": {
        "id": "r0nSj5yHaYZ5",
        "colab": {
          "base_uri": "https://localhost:8080/"
        },
        "outputId": "56b933ed-970a-4420-ea3e-078810087e96"
      },
      "source": [
        "A = np.array([ [1, 2, 3], [4, 5, 6], [7, 8, 9] ])\n",
        "B = np.array([2, 5, 11])\n",
        "Q, R = np.linalg.qr(A)\n",
        " \n",
        "print(A)\n",
        "print(Q)\n",
        "print(R)"
      ],
      "execution_count": null,
      "outputs": [
        {
          "output_type": "stream",
          "text": [
            "[[1 2 3]\n",
            " [4 5 6]\n",
            " [7 8 9]]\n",
            "[[-0.12309149  0.90453403  0.40824829]\n",
            " [-0.49236596  0.30151134 -0.81649658]\n",
            " [-0.86164044 -0.30151134  0.40824829]]\n",
            "[[-8.12403840e+00 -9.60113630e+00 -1.10782342e+01]\n",
            " [ 0.00000000e+00  9.04534034e-01  1.80906807e+00]\n",
            " [ 0.00000000e+00  0.00000000e+00 -7.58790979e-16]]\n"
          ],
          "name": "stdout"
        }
      ]
    },
    {
      "cell_type": "code",
      "metadata": {
        "id": "4ZHNfcgFaYbH",
        "colab": {
          "base_uri": "https://localhost:8080/"
        },
        "outputId": "b488074f-769d-43de-e6d0-082a7bca2c97"
      },
      "source": [
        "print(np.dot(Q, R))\n",
        "print(np.dot(np.transpose(Q), Q))"
      ],
      "execution_count": null,
      "outputs": [
        {
          "output_type": "stream",
          "text": [
            "[[1. 2. 3.]\n",
            " [4. 5. 6.]\n",
            " [7. 8. 9.]]\n",
            "[[ 1.00000000e+00 -2.48218629e-16 -2.62094065e-17]\n",
            " [-2.48218629e-16  1.00000000e+00  2.82872043e-17]\n",
            " [-2.62094065e-17  2.82872043e-17  1.00000000e+00]]\n"
          ],
          "name": "stdout"
        }
      ]
    },
    {
      "cell_type": "code",
      "metadata": {
        "id": "F9mnzcmRaYbU",
        "colab": {
          "base_uri": "https://localhost:8080/"
        },
        "outputId": "5d38cc6b-6f1b-4103-d556-065f399d6c6f"
      },
      "source": [
        "R1 = R[:2, :2]\n",
        "R1"
      ],
      "execution_count": null,
      "outputs": [
        {
          "output_type": "execute_result",
          "data": {
            "text/plain": [
              "array([[-8.1240384 , -9.6011363 ],\n",
              "       [ 0.        ,  0.90453403]])"
            ]
          },
          "metadata": {
            "tags": []
          },
          "execution_count": 4
        }
      ]
    },
    {
      "cell_type": "code",
      "metadata": {
        "id": "9jfX8ikGaYbe",
        "colab": {
          "base_uri": "https://localhost:8080/"
        },
        "outputId": "e4d91224-f3ea-4f8b-c9dd-135a6a4680e9"
      },
      "source": [
        "B1 = np.dot(np.transpose(Q), B)[:2]\n",
        "B1"
      ],
      "execution_count": null,
      "outputs": [
        {
          "output_type": "execute_result",
          "data": {
            "text/plain": [
              "array([-1.21860576e+01,  3.33066907e-15])"
            ]
          },
          "metadata": {
            "tags": []
          },
          "execution_count": 5
        }
      ]
    },
    {
      "cell_type": "code",
      "metadata": {
        "id": "jJp-3e7NaYbm",
        "colab": {
          "base_uri": "https://localhost:8080/"
        },
        "outputId": "ea456c7b-725d-420a-b102-49494bdc06ff"
      },
      "source": [
        "X1 = np.linalg.solve(R1, B1)\n",
        "X1"
      ],
      "execution_count": null,
      "outputs": [
        {
          "output_type": "execute_result",
          "data": {
            "text/plain": [
              "array([1.50000000e+00, 3.68219321e-15])"
            ]
          },
          "metadata": {
            "tags": []
          },
          "execution_count": 14
        }
      ]
    },
    {
      "cell_type": "code",
      "metadata": {
        "id": "kadflFW-aYb4",
        "colab": {
          "base_uri": "https://localhost:8080/"
        },
        "outputId": "11475e99-243e-443d-9b4a-2f61ede43877"
      },
      "source": [
        "X = np.append(X1, 0)\n",
        "print (X)\n",
        "np.linalg.norm(X)"
      ],
      "execution_count": null,
      "outputs": [
        {
          "output_type": "stream",
          "text": [
            "[1.50000000e+00 3.68219321e-15 0.00000000e+00]\n"
          ],
          "name": "stdout"
        },
        {
          "output_type": "execute_result",
          "data": {
            "text/plain": [
              "1.499999999999996"
            ]
          },
          "metadata": {
            "tags": []
          },
          "execution_count": 15
        }
      ]
    },
    {
      "cell_type": "code",
      "metadata": {
        "id": "EqfWxRRLaYb_",
        "colab": {
          "base_uri": "https://localhost:8080/"
        },
        "outputId": "adbe08f6-8456-4ec0-a03a-f876b538433a"
      },
      "source": [
        "np.linalg.norm(np.dot(A, X) - B)"
      ],
      "execution_count": null,
      "outputs": [
        {
          "output_type": "execute_result",
          "data": {
            "text/plain": [
              "1.2247448713915892"
            ]
          },
          "metadata": {
            "tags": []
          },
          "execution_count": 16
        }
      ]
    },
    {
      "cell_type": "code",
      "metadata": {
        "id": "cHuPBVNaaYcI",
        "colab": {
          "base_uri": "https://localhost:8080/"
        },
        "outputId": "d8f83c44-c986-42fb-cf2c-18a00f647a6b"
      },
      "source": [
        "X = np.array([1.5, 1, 0.5])\n",
        "np.linalg.norm(X),  np.linalg.norm(np.dot(A, X) - B)"
      ],
      "execution_count": null,
      "outputs": [
        {
          "output_type": "execute_result",
          "data": {
            "text/plain": [
              "(1.8708286933869707, 2.449489742783178)"
            ]
          },
          "metadata": {
            "tags": []
          },
          "execution_count": 9
        }
      ]
    },
    {
      "cell_type": "code",
      "metadata": {
        "id": "08OqEHPHaYcS"
      },
      "source": [
        ""
      ],
      "execution_count": null,
      "outputs": []
    }
  ]
}