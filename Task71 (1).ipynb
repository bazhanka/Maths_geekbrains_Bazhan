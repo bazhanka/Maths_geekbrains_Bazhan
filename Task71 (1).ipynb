{
  "nbformat": 4,
  "nbformat_minor": 0,
  "metadata": {
    "kernelspec": {
      "display_name": "Python 3",
      "language": "python",
      "name": "python3"
    },
    "language_info": {
      "codemirror_mode": {
        "name": "ipython",
        "version": 3
      },
      "file_extension": ".py",
      "mimetype": "text/x-python",
      "name": "python",
      "nbconvert_exporter": "python",
      "pygments_lexer": "ipython3",
      "version": "3.6.0"
    },
    "colab": {
      "name": "Copy of Копия 6-3.ipynb",
      "provenance": []
    }
  },
  "cells": [
    {
      "cell_type": "markdown",
      "metadata": {
        "collapsed": true,
        "id": "wEmlkxTNaII1"
      },
      "source": [
        "## Системы линейных алгебраических уравнений (СЛАУ) "
      ]
    },
    {
      "cell_type": "code",
      "metadata": {
        "id": "IkOdpSUZaII3"
      },
      "source": [
        "import numpy as np\n",
        "import matplotlib.pyplot as plt\n"
      ],
      "execution_count": 2,
      "outputs": []
    },
    {
      "cell_type": "code",
      "metadata": {
        "id": "Ry73zdRjaIJR",
        "colab": {
          "base_uri": "https://localhost:8080/"
        },
        "outputId": "2bfe2153-c6a0-4927-a95a-a59e7f82c2fd"
      },
      "source": [
        "A = np.array([[1, 2, 3], [4, 5, 6], [7, 8, 9]])\n",
        "B = np.array([[2, 5, 1]])\n",
        "C = np.concatenate((A,B.T), axis=1)\n",
        "print (C)\n",
        "np.linalg.matrix_rank(A, 0.0001), np.linalg.matrix_rank(C, 0.0001)"
      ],
      "execution_count": 3,
      "outputs": [
        {
          "output_type": "stream",
          "text": [
            "[[1 2 3 2]\n",
            " [4 5 6 5]\n",
            " [7 8 9 1]]\n"
          ],
          "name": "stdout"
        },
        {
          "output_type": "execute_result",
          "data": {
            "text/plain": [
              "(2, 3)"
            ]
          },
          "metadata": {
            "tags": []
          },
          "execution_count": 3
        }
      ]
    },
    {
      "cell_type": "code",
      "metadata": {
        "id": "Uk5X5PRGaIJd",
        "colab": {
          "base_uri": "https://localhost:8080/"
        },
        "outputId": "4e7aea2d-8adf-4cdb-a8b1-6c9c9b06edcd"
      },
      "source": [
        "A = np.array([[1, 2, 3], [4, 5, 6], [7, 8, 9]])\n",
        "B = np.array([[0, 0, 0]])\n",
        "C = np.concatenate((A,B.T), axis=1)\n",
        "print (C)\n",
        "np.linalg.matrix_rank(A, 0.0001), np.linalg.matrix_rank(C, 0.0001)"
      ],
      "execution_count": 4,
      "outputs": [
        {
          "output_type": "stream",
          "text": [
            "[[1 2 3 0]\n",
            " [4 5 6 0]\n",
            " [7 8 9 0]]\n"
          ],
          "name": "stdout"
        },
        {
          "output_type": "execute_result",
          "data": {
            "text/plain": [
              "(2, 2)"
            ]
          },
          "metadata": {
            "tags": []
          },
          "execution_count": 4
        }
      ]
    },
    {
      "cell_type": "markdown",
      "metadata": {
        "id": "iFRUXDrL6NBw"
      },
      "source": [
        ""
      ]
    },
    {
      "cell_type": "code",
      "metadata": {
        "id": "tITOa7Nb6OkT"
      },
      "source": [
        ""
      ],
      "execution_count": null,
      "outputs": []
    },
    {
      "cell_type": "code",
      "metadata": {
        "id": "cGLQ4oaKaIJj",
        "outputId": "61e32ed3-2ca4-4b3c-f7bf-5ed601e1456c"
      },
      "source": [
        "A = np.array([[1, 1, 1], [1, 1, 2], [1, 1, 3]])\n",
        "B = np.array([1, 1, 2])\n",
        "np.linalg.matrix_rank(A, 0.0001)"
      ],
      "execution_count": null,
      "outputs": [
        {
          "output_type": "execute_result",
          "data": {
            "text/plain": [
              "2"
            ]
          },
          "metadata": {
            "tags": []
          },
          "execution_count": 16
        }
      ]
    },
    {
      "cell_type": "code",
      "metadata": {
        "id": "FA0Z6hAoaIJo"
      },
      "source": [
        ""
      ],
      "execution_count": null,
      "outputs": []
    }
  ]
}