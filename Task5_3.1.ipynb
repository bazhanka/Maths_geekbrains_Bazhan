{
  "nbformat": 4,
  "nbformat_minor": 0,
  "metadata": {
    "colab": {
      "name": "Копия 4.4.ipynb",
      "provenance": [],
      "collapsed_sections": []
    },
    "language_info": {
      "codemirror_mode": {
        "name": "ipython",
        "version": 3
      },
      "file_extension": ".py",
      "mimetype": "text/x-python",
      "name": "python",
      "nbconvert_exporter": "python",
      "pygments_lexer": "ipython3",
      "version": "3.6.0"
    },
    "kernelspec": {
      "display_name": "Python 3",
      "language": "python",
      "name": "python3"
    }
  },
  "cells": [
    {
      "cell_type": "code",
      "metadata": {
        "id": "uRkzMzmKJEBA"
      },
      "source": [
        "import numpy as np\n",
        "import itertools\n",
        "import math\n",
        "import sys"
      ],
      "execution_count": 1,
      "outputs": []
    },
    {
      "cell_type": "code",
      "metadata": {
        "id": "1FSBHdLLJEBM",
        "colab": {
          "base_uri": "https://localhost:8080/"
        },
        "outputId": "4ecee527-8735-4371-f453-6148b2b25254"
      },
      "source": [
        "k, n = 0, 100\n",
        "a = np.random.randint(0, 2, n)\n",
        "b = np.random.randint(0, 2, n)\n",
        "c = np.random.randint(0, 2, n)\n",
        "d = np.random.randint(0, 2, n)\n",
        "x = a + b + c + d\n",
        "for i in range(0, n):\n",
        "    if x[i] == 2:\n",
        "        k = k + 1\n",
        "v=(0.5**k)*(0.5**(n-k))\n",
        "#print(a, b, c, d)\n",
        "#print(x)\n",
        "print(k, n, k/n,v)"
      ],
      "execution_count": 21,
      "outputs": [
        {
          "output_type": "stream",
          "text": [
            "37 100 0.37 7.888609052210118e-31\n"
          ],
          "name": "stdout"
        }
      ]
    }
  ]
}