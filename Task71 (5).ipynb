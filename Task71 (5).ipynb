{
  "nbformat": 4,
  "nbformat_minor": 0,
  "metadata": {
    "kernelspec": {
      "display_name": "Python 3",
      "language": "python",
      "name": "python3"
    },
    "language_info": {
      "codemirror_mode": {
        "name": "ipython",
        "version": 3
      },
      "file_extension": ".py",
      "mimetype": "text/x-python",
      "name": "python",
      "nbconvert_exporter": "python",
      "pygments_lexer": "ipython3",
      "version": "3.6.0"
    },
    "colab": {
      "name": "Copy of Копия 6-1.ipynb",
      "provenance": []
    }
  },
  "cells": [
    {
      "cell_type": "markdown",
      "metadata": {
        "collapsed": true,
        "id": "FbcGEdj2aB9o"
      },
      "source": [
        "## Системы линейных алгебраических уравнений (СЛАУ) "
      ]
    },
    {
      "cell_type": "code",
      "metadata": {
        "id": "tMQCniTVaB9r"
      },
      "source": [
        "import numpy as np\n",
        "import matplotlib.pyplot as plt\n",
        "\n"
      ],
      "execution_count": 2,
      "outputs": []
    },
    {
      "cell_type": "code",
      "metadata": {
        "id": "FO_laOd7aB-H",
        "colab": {
          "base_uri": "https://localhost:8080/"
        },
        "outputId": "1c039625-51e0-49ac-d3ab-0ca00f5a91c5"
      },
      "source": [
        "A = np.array([[1, 2, 3], [4, 0, 6], [7, 8, 9]])\n",
        "B = np.array([12, 2, 1])\n",
        "np.linalg.solve(A, B)"
      ],
      "execution_count": 3,
      "outputs": [
        {
          "output_type": "execute_result",
          "data": {
            "text/plain": [
              "array([-9.2       ,  0.9       ,  6.46666667])"
            ]
          },
          "metadata": {
            "tags": []
          },
          "execution_count": 3
        }
      ]
    }
  ]
}